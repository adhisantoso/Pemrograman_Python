{
  "nbformat": 4,
  "nbformat_minor": 0,
  "metadata": {
    "colab": {
      "name": "Untitled3.ipynb",
      "provenance": [],
      "authorship_tag": "ABX9TyOTwIu4FBKKOZstSGq5lvC9",
      "include_colab_link": true
    },
    "kernelspec": {
      "name": "python3",
      "display_name": "Python 3"
    }
  },
  "cells": [
    {
      "cell_type": "markdown",
      "metadata": {
        "id": "view-in-github",
        "colab_type": "text"
      },
      "source": [
        "<a href=\"https://colab.research.google.com/github/adhisantoso/Pemrograman_Python/blob/main/Pertemuan%2013.ipynb\" target=\"_parent\"><img src=\"https://colab.research.google.com/assets/colab-badge.svg\" alt=\"Open In Colab\"/></a>"
      ]
    },
    {
      "cell_type": "code",
      "metadata": {
        "id": "ao3FaGxQANX3"
      },
      "source": [
        "import numpy as np\r\n",
        "import matplotlib.pyplot as plt"
      ],
      "execution_count": 1,
      "outputs": []
    },
    {
      "cell_type": "code",
      "metadata": {
        "id": "y9WkrGGmBIkN"
      },
      "source": [
        "def cos(frek,tipe,ht,hr,d):\r\n",
        "  #frek = frekuensi (MHz)\r\n",
        "  #tipe = urban, suburban, open\r\n",
        "  #ht = tinggi tower (meter)\r\n",
        "  #hr = tinggi user (meter)\r\n",
        "  #d = jarak (meter)\r\n",
        "    if frek in range(150,1501):\r\n",
        "        Ca=69.55\r\n",
        "        Cb=26.16\r\n",
        "    elif frek in range(1501,2001):\r\n",
        "        Ca=46.3\r\n",
        "        Cb=33.9\r\n",
        "    \r\n",
        "    if tipe=='urban' :\r\n",
        "        Cm=0\r\n",
        "    elif tipe=='suburban' :\r\n",
        "        Cm= -2*((np.log10((frek/28)**2))-5.4)\r\n",
        "    elif tipe=='open' :\r\n",
        "        Cm= -4.78*(np.log10(frek))+18.33*(np.log10(frek))-40.94\r\n",
        "    else :\r\n",
        "        Cm='tipe salah'\r\n",
        "    \r\n",
        "    ahr = (1.1*np.log10(frek)-0.7)*hr-(1.56*np.log10(frek)-1.8)\r\n",
        "    Lp = Ca+(Cb*np.log10(frek))-(13.83*np.log(ht))-ahr+((44.9-6.55*np.log10(ht))*np.log10(d))-Cm\r\n",
        "    \r\n",
        "    return Lp"
      ],
      "execution_count": 2,
      "outputs": []
    },
    {
      "cell_type": "code",
      "metadata": {
        "id": "Ks4Q3oE-BMss"
      },
      "source": [
        "f=1800 #MHz\r\n",
        "loc='urban'\r\n",
        "tower=80 #m\r\n",
        "user=1.5 #m\r\n",
        "dmin=200 #m\r\n",
        "dmax=700 #m\r\n",
        "N=200 #titik\r\n",
        "d=np.random.randint(dmin,dmax,N)"
      ],
      "execution_count": 3,
      "outputs": []
    },
    {
      "cell_type": "code",
      "metadata": {
        "colab": {
          "base_uri": "https://localhost:8080/"
        },
        "id": "vR6V0sDJBQRx",
        "outputId": "1b5b17a8-dd01-43ea-e933-713e764f3b62"
      },
      "source": [
        "print(d)"
      ],
      "execution_count": 4,
      "outputs": [
        {
          "output_type": "stream",
          "text": [
            "[654 251 374 285 260 423 346 328 547 528 681 380 553 365 658 436 469 631\n",
            " 672 560 537 306 635 259 338 415 308 448 601 353 647 383 676 661 218 560\n",
            " 498 300 377 223 665 649 292 565 551 682 612 409 689 562 248 260 365 682\n",
            " 664 641 303 534 625 416 569 606 254 619 230 517 589 659 431 564 557 388\n",
            " 221 685 227 477 616 553 322 365 339 354 483 475 229 250 285 486 441 513\n",
            " 483 646 422 624 598 420 215 284 211 457 392 476 535 466 249 323 331 618\n",
            " 323 251 391 530 213 690 419 426 477 350 611 592 625 231 365 412 545 430\n",
            " 372 620 670 478 484 379 689 572 286 424 567 224 454 667 395 614 636 695\n",
            " 434 455 393 672 226 331 611 477 234 544 277 288 405 225 342 518 463 206\n",
            " 293 382 359 473 227 404 686 461 254 579 497 606 489 256 401 509 699 484\n",
            " 478 393 695 602 231 426 552 201 318 381 402 219 606 285 459 635 236 539\n",
            " 587 604]\n"
          ],
          "name": "stdout"
        }
      ]
    },
    {
      "cell_type": "code",
      "metadata": {
        "id": "31LGUQw_BTb8"
      },
      "source": [
        "LpUrban=cos(f,loc,tower,user,d)"
      ],
      "execution_count": 5,
      "outputs": []
    },
    {
      "cell_type": "code",
      "metadata": {
        "colab": {
          "base_uri": "https://localhost:8080/"
        },
        "id": "tysNAgBuBYXr",
        "outputId": "3ffe71fe-1fcf-4ebb-e4a9-5b3bd9a75097"
      },
      "source": [
        "print(LpUrban)"
      ],
      "execution_count": 6,
      "outputs": [
        {
          "output_type": "stream",
          "text": [
            "[186.32992522 172.84017768 178.45780947 174.62964035 173.3364174\n",
            " 180.19205607 177.36166041 176.60910082 183.81329845 183.31531448\n",
            " 186.89978332 178.68199836 183.96696802 178.11469065 186.41581717\n",
            " 180.61844739 181.64618668 185.82561694 186.7123805  184.14415574\n",
            " 183.5533974  175.63111439 185.91462979 173.28213511 177.03214275\n",
            " 179.92309826 175.72288173 181.00090267 185.13946324 177.64379763\n",
            " 186.17834241 178.79276882 186.79597859 186.47989418 170.85461155\n",
            " 184.14415574 182.49132302 175.35216988 178.57034992 171.17404105\n",
            " 186.56487928 186.22181849 174.97143758 184.26936756 183.91593088\n",
            " 186.92045278 185.39495023 179.71795525 187.06429599 184.19437411\n",
            " 172.67080204 173.3364174  178.11469065 186.92045278 186.54368103\n",
            " 186.04710322 175.4923326  183.4744827  185.69103403 179.95700017\n",
            " 184.36874179 185.25616844 173.00754089 185.55515287 171.60941197\n",
            " 183.01875116 184.85536142 186.43720858 180.45597456 184.24441408\n",
            " 184.0684909  178.97547226 171.04713715 186.98227982 171.42446965\n",
            " 181.88443739 185.48671757 183.96696802 176.34903982 178.11469065\n",
            " 177.07375648 177.68364557 182.06051765 181.82525143 171.54803393\n",
            " 172.78394512 174.62964035 182.14773921 180.77906757 182.90934294\n",
            " 182.06051765 186.15655395 180.15871585 185.668478   185.06897316\n",
            " 180.09179773 170.65941807 174.58012804 170.39488001 181.28108017\n",
            " 179.11994775 181.85487549 183.50083675 181.5557934  172.72748718\n",
            " 176.39271811 176.73735273 185.53237803 176.39271811 172.84017768\n",
            " 179.08396756 183.36857064 170.52777003 187.08472564 180.05821908\n",
            " 180.29160587 181.88443739 177.52357297 185.37191467 184.92692586\n",
            " 185.69103403 171.67052372 178.11469065 179.8209002  183.76170046\n",
            " 180.42325391 178.38227987 185.57789095 186.67039466 181.91393737\n",
            " 182.08965155 178.64488045 187.06429599 184.44281507 174.67897923\n",
            " 180.22531757 184.31914231 171.23706683 181.18830549 186.60718033\n",
            " 179.22734017 185.44090863 185.9367954  187.18643176 180.55368296\n",
            " 181.21929832 179.15583628 186.7123805  171.36227866 176.73735273\n",
            " 185.37191467 181.88443739 171.85228415 183.73583041 174.22858158\n",
            " 174.77714157 179.57951445 171.29981187 177.19786511 183.04597095\n",
            " 181.4648163  170.05706436 175.0195957  178.75594203 177.88121175\n",
            " 181.76581574 171.42446965 179.54469061 187.00282867 181.40383683\n",
            " 173.00754089 184.61415283 182.46300896 185.25616844 182.23442403\n",
            " 173.11802175 179.43969953 182.79907828 187.26727123 182.08965155\n",
            " 181.91393737 179.15583628 187.18643176 185.16288176 171.67052372\n",
            " 180.29160587 183.94147257 169.71094774 176.17295956 178.71901871\n",
            " 179.47478358 170.91907957 185.25616844 174.62964035 181.34259222\n",
            " 185.91462979 171.97216775 183.60576266 184.807449   185.20960232]\n"
          ],
          "name": "stdout"
        }
      ]
    },
    {
      "cell_type": "code",
      "metadata": {
        "id": "49_TjGLiBawQ"
      },
      "source": [
        "d_sort=d[np.argsort(d)]\r\n",
        "Urban_sort=LpUrban[np.argsort(d)]"
      ],
      "execution_count": 7,
      "outputs": []
    },
    {
      "cell_type": "code",
      "metadata": {
        "id": "O1W1Sj1OBdAA"
      },
      "source": [
        "f=1800 #MHz\r\n",
        "loc='suburban'\r\n",
        "tower=80 #m\r\n",
        "user=1.5 #m\r\n",
        "dmin=200 #m\r\n",
        "dmax=700 #m\r\n",
        "N=200 #titik\r\n",
        "a=np.random.randint(dmin,dmax,N)"
      ],
      "execution_count": 8,
      "outputs": []
    },
    {
      "cell_type": "code",
      "metadata": {
        "colab": {
          "base_uri": "https://localhost:8080/"
        },
        "id": "VVLdtNmeBe95",
        "outputId": "f1f6b67e-45bb-49fe-d342-c2aa3b8cfac9"
      },
      "source": [
        "print(a)"
      ],
      "execution_count": 9,
      "outputs": [
        {
          "output_type": "stream",
          "text": [
            "[505 549 308 235 536 524 547 699 403 502 626 246 356 384 516 620 202 578\n",
            " 603 375 223 319 341 441 662 603 285 589 313 394 239 444 266 623 276 672\n",
            " 552 508 270 607 237 285 640 631 357 236 511 452 397 559 563 640 351 442\n",
            " 635 647 320 265 689 484 387 426 429 372 666 347 588 646 201 609 670 529\n",
            " 686 248 230 215 222 639 453 668 397 586 470 251 491 665 654 621 430 683\n",
            " 470 244 218 202 458 334 441 397 682 584 392 229 625 327 547 544 206 330\n",
            " 652 672 622 394 233 654 451 366 561 343 257 430 356 439 355 547 627 560\n",
            " 475 312 601 498 253 311 448 604 398 364 414 301 636 550 244 629 509 298\n",
            " 567 534 654 470 506 638 517 587 567 326 243 447 455 256 468 479 625 360\n",
            " 338 573 232 365 328 596 507 400 366 314 683 535 349 272 206 354 304 206\n",
            " 499 537 601 573 579 407 302 202 448 296 251 204 431 623 607 683 622 372\n",
            " 325 248]\n"
          ],
          "name": "stdout"
        }
      ]
    },
    {
      "cell_type": "code",
      "metadata": {
        "id": "06Cv-e7yBhRR"
      },
      "source": [
        "Lpsuburban=cos(f,loc,tower,user,a)"
      ],
      "execution_count": 10,
      "outputs": []
    },
    {
      "cell_type": "code",
      "metadata": {
        "colab": {
          "base_uri": "https://localhost:8080/"
        },
        "id": "95gxtgoGBjiQ",
        "outputId": "962d055a-b91d-4eda-9a5f-3c9eabaaf131"
      },
      "source": [
        "print(Lpsuburban)"
      ],
      "execution_count": 11,
      "outputs": [
        {
          "output_type": "stream",
          "text": [
            "[179.12040158 180.29716603 172.15533963 168.34481138 179.95959949\n",
            " 179.64065218 180.24575635 183.69972912 175.94223836 179.03647141\n",
            " 182.14601189 168.98920071 174.19546276 175.26195747 179.42393656\n",
            " 182.01034884 166.21331267 181.02226113 181.61871931 174.92788084\n",
            " 167.60649895 172.6496443  173.58907484 177.21152547 182.93364647\n",
            " 181.61871931 171.06209824 181.28781931 172.38217605 175.62409149\n",
            " 168.58255943 177.30702575 170.09024827 182.07834369 170.61009462\n",
            " 183.14483839 180.37393046 179.20383462 170.30049452 181.71185179\n",
            " 168.46418699 171.06209824 182.45756855 182.25807483 174.23497538\n",
            " 168.40462564 179.28677639 177.55857239 175.73094083 180.55143715\n",
            " 180.65187421 182.45756855 173.99621987 177.24343089 182.34708769\n",
            " 182.61080031 172.69373271 170.0371927  183.49675389 178.52210945\n",
            " 175.37157855 176.72406376 176.82291496 174.81473776 183.01850358\n",
            " 173.83477126 181.26388348 182.58901184 166.14340564 181.75818814\n",
            " 183.10285256 179.77442562 183.43528657 169.10325994 168.04186986\n",
            " 167.09187596 167.54318991 182.43554159 177.58970221 183.0607412\n",
            " 175.73094083 181.21588943 178.10864722 169.27263557 178.72437685\n",
            " 182.99733718 182.76238311 182.03305028 176.8557118  183.37354986\n",
            " 178.10864722 168.87421038 167.28706944 166.21331267 177.74432766\n",
            " 173.29690536 177.21152547 175.73094083 183.35291068 181.16773131\n",
            " 175.55240565 167.98049183 182.12349192 172.99854727 180.24575635\n",
            " 180.1682883  166.48952225 173.12718961 182.71923993 183.14483839\n",
            " 182.05571519 175.62409149 168.22441545 182.76238311 177.52737362\n",
            " 174.5856882  180.6017452  173.67145073 169.60539682 176.8557118\n",
            " 174.19546276 177.147497   174.155839   180.24575635 182.16849591\n",
            " 180.57661363 178.25770932 172.33710005 181.57192113 178.92378091\n",
            " 169.3844317  172.29187935 177.43336056 181.64206022 175.76637793\n",
            " 174.50850315 176.32157245 171.83150381 182.36925329 180.32280069\n",
            " 168.87421038 182.21335658 179.23153618 171.6904051  180.7516002\n",
            " 179.90694059 182.76238311 178.10864722 179.14826754 182.41348013\n",
            " 179.45120905 181.2399069  180.7516002  172.95540409 168.81636127\n",
            " 177.40188292 177.65175622 169.55047964 178.04857788 178.3758336\n",
            " 182.12349192 174.35285253 173.46460065 180.89987776 168.16382939\n",
            " 174.54714854 173.04155872 181.45424093 179.17607848 175.83698578\n",
            " 174.5856882  172.42710827 183.37354986 179.93329465 173.91572687\n",
            " 170.40445247 166.48952225 174.11610347 171.97120318 166.48952225\n",
            " 178.95203817 179.9858553  181.57192113 180.89987776 181.04661072\n",
            " 176.08136282 171.87822438 166.21331267 177.43336056 171.59554792\n",
            " 169.27263557 166.35209446 176.88843246 182.07834369 181.71185179\n",
            " 183.37354986 182.05571519 174.81473776 172.91212837 169.10325994]\n"
          ],
          "name": "stdout"
        }
      ]
    },
    {
      "cell_type": "code",
      "metadata": {
        "id": "zxKLsR2SBlyo"
      },
      "source": [
        "a_sort=a[np.argsort(a)]\r\n",
        "suburban_sort=Lpsuburban[np.argsort(a)]"
      ],
      "execution_count": 12,
      "outputs": []
    },
    {
      "cell_type": "code",
      "metadata": {
        "id": "yIHszVuYBnqJ"
      },
      "source": [
        "f=1800 #MHz\r\n",
        "loc='open'\r\n",
        "tower=80 #m\r\n",
        "user=1.5 #m\r\n",
        "dmin=200 #m\r\n",
        "dmax=700 #m\r\n",
        "N=200 #titik\r\n",
        "b=np.random.randint(dmin,dmax,N)"
      ],
      "execution_count": 13,
      "outputs": []
    },
    {
      "cell_type": "code",
      "metadata": {
        "colab": {
          "base_uri": "https://localhost:8080/"
        },
        "id": "o2wjlAVJBq2Y",
        "outputId": "c38e30b1-31a7-44f7-d224-35d89f9af717"
      },
      "source": [
        "print(b)"
      ],
      "execution_count": 14,
      "outputs": [
        {
          "output_type": "stream",
          "text": [
            "[552 559 215 637 613 434 481 382 272 223 288 257 546 634 661 625 655 619\n",
            " 404 669 598 694 694 416 327 649 400 392 234 203 404 441 388 687 478 308\n",
            " 540 279 627 424 412 426 345 287 378 621 538 464 220 422 357 484 680 410\n",
            " 425 361 437 598 626 364 605 414 363 620 379 356 667 482 344 264 491 302\n",
            " 551 615 584 318 293 458 344 269 219 442 549 584 285 646 413 405 313 677\n",
            " 214 581 489 368 223 236 253 487 319 215 616 474 398 306 501 507 387 525\n",
            " 354 405 491 438 275 684 539 514 548 425 243 328 293 502 362 254 471 420\n",
            " 551 542 237 338 296 211 541 434 470 624 239 229 695 412 387 384 337 362\n",
            " 224 360 682 517 607 644 391 592 268 397 370 325 440 434 270 478 606 649\n",
            " 505 373 279 664 479 428 646 467 693 558 472 670 317 589 202 362 507 408\n",
            " 496 697 385 294 325 272 401 667 258 236 415 311 693 609 207 664 620 330\n",
            " 233 610]\n"
          ],
          "name": "stdout"
        }
      ]
    },
    {
      "cell_type": "code",
      "metadata": {
        "id": "qodw9TqeBsIF"
      },
      "source": [
        "Lpopen=cos(f,loc,tower,user,b)"
      ],
      "execution_count": 15,
      "outputs": []
    },
    {
      "cell_type": "code",
      "metadata": {
        "colab": {
          "base_uri": "https://localhost:8080/"
        },
        "id": "b1foeQzEBuAJ",
        "outputId": "d4e4f8c0-83e0-450b-bfe0-24389b520669"
      },
      "source": [
        "print(Lpopen)"
      ],
      "execution_count": 16,
      "outputs": [
        {
          "output_type": "stream",
          "text": [
            "[180.77253012 180.95003681 167.49047562 182.78998373 182.24900573\n",
            " 177.38474052 178.833126   175.58699959 170.80305213 168.00509861\n",
            " 171.60819912 170.00399648 180.61858064 182.72348681 183.31095174\n",
            " 182.52209158 183.18250491 182.38621042 176.37574817 183.48041228\n",
            " 181.90003072 183.99720676 183.99720676 176.78805773 173.39714693\n",
            " 183.05287604 176.23558544 175.95100531 168.68334171 166.68147414\n",
            " 176.37574817 177.61012513 175.80652981 183.85440515 178.74499493\n",
            " 172.55393929 180.46293002 171.16097942 182.56709558 177.05637512\n",
            " 176.65195775 177.12266342 174.15194735 171.55920346 175.43872203\n",
            " 182.43164994 180.41066192 178.32626489 167.81431144 176.9897734\n",
            " 174.63357504 178.92070911 183.71014103 176.58341145 177.08955827\n",
            " 174.79052638 177.48177583 181.90003072 182.54461155 174.90710281\n",
            " 182.06396218 176.72017211 174.8683511  182.4089485  175.47593801\n",
            " 174.59406243 183.43823788 178.86238092 174.11105839 170.3825362\n",
            " 179.12297651 172.27682404 180.74698843 182.29488928 181.56633097\n",
            " 173.00401711 171.85065326 178.14292732 174.11105839 170.64682608\n",
            " 167.75013712 177.64203055 180.69576569 181.56633097 171.4606979\n",
            " 182.98761151 176.68610622 176.41057201 172.78077571 183.64785838\n",
            " 167.4248054  181.49378367 179.06548158 175.06105229 168.00509861\n",
            " 168.8032253  169.78303136 179.00775102 173.04824396 167.49047562\n",
            " 182.31777513 178.62662249 176.16497759 172.46217195 179.40698285\n",
            " 179.57467814 175.77017821 180.06610836 174.51470313 176.41057201\n",
            " 179.12297651 177.51397296 170.95756451 183.7927585  180.43682021\n",
            " 179.76783232 180.67008431 177.08955827 169.21496093 173.44015838\n",
            " 171.85065326 179.43507107 174.82949249 169.83859844 178.53718576\n",
            " 176.92285529 180.74698843 180.51500489 168.86278665 173.86320031\n",
            " 171.99414758 167.22593757 180.48899152 177.38474052 178.50724688\n",
            " 182.49953555 168.98115909 168.37909149 184.01748932 176.65195775\n",
            " 175.77017821 175.66055713 173.82146328 174.82949249 168.06812439\n",
            " 174.75145219 183.75151034 179.84980871 182.11045145 182.94393321\n",
            " 175.91502512 181.75798342 170.59436331 176.12954049 175.13740065\n",
            " 173.31072803 177.57814728 177.38474052 170.69909418 178.74499493\n",
            " 182.087226   183.05287604 179.51900124 175.25115285 171.16097942\n",
            " 183.37473858 178.77443326 177.18864124 182.98761151 178.41704654\n",
            " 183.97689495 180.92481525 178.56706114 183.50145222 172.95965098\n",
            " 181.68641898 166.61191233 174.82949249 179.57467814 176.51452995\n",
            " 179.26569543 184.05796704 175.69719236 171.8986473  173.31072803\n",
            " 170.80305213 176.27075709 183.43823788 170.05870038 168.8032253\n",
            " 176.75415581 172.69047901 183.97689495 182.1567878  166.95633627\n",
            " 183.37473858 182.4089485  173.52578927 168.62301511 182.17989895]\n"
          ],
          "name": "stdout"
        }
      ]
    },
    {
      "cell_type": "code",
      "metadata": {
        "id": "NbTHcfMoBv8Y"
      },
      "source": [
        "b_sort=b[np.argsort(b)]\r\n",
        "open_sort=Lpopen[np.argsort(b)]"
      ],
      "execution_count": 17,
      "outputs": []
    },
    {
      "cell_type": "code",
      "metadata": {
        "colab": {
          "base_uri": "https://localhost:8080/",
          "height": 295
        },
        "id": "R_h2uEvZB0Eg",
        "outputId": "1a7d1d0c-9275-4ba9-e6f6-31ea037acf81"
      },
      "source": [
        "plt.figure()\r\n",
        "plt.plot(d_sort,Urban_sort, label='Urban')\r\n",
        "plt.plot(b_sort,open_sort, label='Open')\r\n",
        "plt.plot(a_sort,suburban_sort, label='Suburban')\r\n",
        "plt.legend()\r\n",
        "plt.title('FREKUENSI 1800 MHZ (GAMBAR CONTOH)')\r\n",
        "plt.xlabel('Jarak (m)')\r\n",
        "plt.ylabel('Path Loss (dB)')\r\n",
        "plt.show()"
      ],
      "execution_count": 18,
      "outputs": [
        {
          "output_type": "display_data",
          "data": {
            "image/png": "[encoded data removed]",
            "text/plain": [
              "<Figure size 432x288 with 1 Axes>"
            ]
          },
          "metadata": {
            "tags": [],
            "needs_background": "light"
          }
        }
      ]
    },
    {
      "cell_type": "code",
      "metadata": {
        "id": "f3cvohnSB3tE"
      },
      "source": [
        "f=1800 #MHz\r\n",
        "loc='urban'\r\n",
        "tower=80 #m\r\n",
        "user=1.5 #m\r\n",
        "dmin=200 #m\r\n",
        "dmax=700 #m\r\n",
        "N=200 #titik\r\n",
        "x=np.random.randint(dmin,dmax,N)"
      ],
      "execution_count": 19,
      "outputs": []
    },
    {
      "cell_type": "code",
      "metadata": {
        "colab": {
          "base_uri": "https://localhost:8080/"
        },
        "id": "JBm4nYV3B5ja",
        "outputId": "7c0c9802-ec58-4745-af03-fa384b58117f"
      },
      "source": [
        "print(x)"
      ],
      "execution_count": 20,
      "outputs": [
        {
          "output_type": "stream",
          "text": [
            "[271 367 234 506 301 673 524 516 588 579 296 261 468 450 492 416 226 420\n",
            " 201 492 247 435 653 303 559 426 326 430 520 322 467 489 522 519 266 656\n",
            " 203 362 533 582 421 254 595 641 571 533 515 597 645 480 568 513 588 375\n",
            " 546 531 656 343 388 470 445 520 608 457 234 490 541 696 408 285 387 516\n",
            " 600 634 664 594 263 647 648 631 382 511 492 302 536 480 373 409 411 608\n",
            " 662 595 622 668 615 605 469 297 691 312 332 542 693 520 589 449 482 519\n",
            " 434 482 539 249 464 369 616 584 478 293 318 344 559 604 598 454 310 612\n",
            " 246 334 559 597 559 361 527 242 535 423 644 630 334 608 360 513 243 299\n",
            " 350 372 631 398 577 522 674 449 251 506 418 457 240 455 394 412 519 417\n",
            " 499 360 512 617 605 620 333 406 248 450 295 281 440 673 630 436 471 320\n",
            " 676 230 697 538 423 671 513 418 281 605 318 552 375 332 519 307 334 350\n",
            " 388 470]\n"
          ],
          "name": "stdout"
        }
      ]
    },
    {
      "cell_type": "code",
      "metadata": {
        "id": "U03OgsTAB69Y"
      },
      "source": [
        "LpUrban1=cos(f,loc,tower,user,x)"
      ],
      "execution_count": 21,
      "outputs": []
    },
    {
      "cell_type": "code",
      "metadata": {
        "colab": {
          "base_uri": "https://localhost:8080/"
        },
        "id": "k0RsOGEFB8tE",
        "outputId": "2d1d10f7-e57f-43e6-c3ce-37bba4c4929d"
      },
      "source": [
        "print(LpUrban1)"
      ],
      "execution_count": 22,
      "outputs": [
        {
          "output_type": "stream",
          "text": [
            "[173.9201115  178.19166482 171.85228415 182.71580964 175.39904592\n",
            " 186.73332658 183.20819429 182.99147866 184.83142558 184.61415283\n",
            " 175.16309002 173.39049132 181.61611999 181.06364771 182.32057865\n",
            " 179.95700017 171.36227866 180.09179773 169.71094774 182.32057865\n",
            " 172.61388787 180.5861024  186.30837014 175.4923326  184.11897926\n",
            " 180.29160587 176.5229462  180.42325391 183.10025324 176.34903982\n",
            " 181.58598899 182.23442403 183.15432715 183.07313824 173.65779037\n",
            " 186.37293666 169.85041658 177.99843493 183.44807925 184.68695008\n",
            " 180.12529653 173.00754089 184.99812856 186.04710322 184.41816723\n",
            " 183.44807925 182.96415327 185.04539786 186.13473173 181.97275265\n",
            " 184.34396388 182.90934294 184.83142558 178.49542295 183.78752308\n",
            " 183.3951234  186.37293666 177.23899284 178.97547226 181.67618932\n",
            " 180.90625794 183.10025324 185.30258113 181.28108017 171.85228415\n",
            " 182.26320082 183.65793397 187.20668516 179.6834724  174.62964035\n",
            " 178.93912065 182.99147866 185.11600572 185.89242926 186.54368103\n",
            " 184.9744343  173.49802037 186.17834241 186.20009722 185.82561694\n",
            " 178.75594203 182.8543185  182.32057865 175.44576648 183.52714159\n",
            " 181.97275265 178.42009529 179.71795525 179.78666874 185.30258113\n",
            " 186.50118857 184.99812856 185.62325729 186.62828331 185.46383172\n",
            " 185.23290462 181.64618668 175.21059846 187.10512569 175.90464216\n",
            " 176.77984519 183.68394734 187.14583739 183.10025324 184.85536142\n",
            " 181.03231012 182.03132336 183.07313824 180.55368296 182.03132336\n",
            " 183.60576266 172.72748718 181.49520734 178.26822064 185.48671757\n",
            " 184.73527342 181.91393737 175.0195957  176.17295956 177.28000084\n",
            " 184.11897926 185.20960232 185.06897316 181.18830549 175.81405511\n",
            " 185.39495023 172.55674281 176.86444747 184.11897926 185.04539786\n",
            " 184.11897926 177.95946883 183.2886107  172.32581571 183.50083675\n",
            " 180.19205607 186.11287566 185.80327556 176.86444747 185.30258113\n",
            " 177.92039464 182.90934294 172.38390337 175.30513732 177.52357297\n",
            " 178.38227987 185.82561694 179.33392003 184.56541147 183.15432715\n",
            " 186.75424156 181.03231012 172.84017768 182.71580964 180.02456019\n",
            " 181.28108017 172.20891681 181.21929832 179.19163359 179.8209002\n",
            " 183.07313824 179.99082068 182.51958027 177.92039464 182.88185758\n",
            " 185.5095663  185.23290462 185.57789095 176.82220984 179.61425242\n",
            " 172.67080204 181.06364771 175.11542082 174.43053827 180.74708972\n",
            " 186.73332658 185.80327556 180.61844739 181.7061282  176.26127482\n",
            " 186.79597859 171.60941197 187.22690949 183.57960436 180.19205607\n",
            " 186.69140322 182.90934294 180.02456019 174.43053827 185.23290462\n",
            " 176.17295956 183.94147257 178.49542295 176.77984519 183.07313824\n",
            " 175.67707279 176.86444747 177.52357297 178.97547226 181.67618932]\n"
          ],
          "name": "stdout"
        }
      ]
    },
    {
      "cell_type": "code",
      "metadata": {
        "id": "O85A1ElmB-9d"
      },
      "source": [
        "x_sort=x[np.argsort(x)]\r\n",
        "Urban_sort1=LpUrban1[np.argsort(x)]"
      ],
      "execution_count": 23,
      "outputs": []
    },
    {
      "cell_type": "code",
      "metadata": {
        "id": "9rBp4wwhCCU9"
      },
      "source": [
        "f=900 #MHz\r\n",
        "loc='urban'\r\n",
        "tower=80 #m\r\n",
        "user=1.5 #m\r\n",
        "dmin=200 #m\r\n",
        "dmax=700 #m\r\n",
        "N=200 #titik\r\n",
        "y=np.random.randint(dmin,dmax,N)"
      ],
      "execution_count": 24,
      "outputs": []
    },
    {
      "cell_type": "code",
      "metadata": {
        "colab": {
          "base_uri": "https://localhost:8080/"
        },
        "id": "J38iHNpMCGcB",
        "outputId": "1db53946-bce4-4f73-c306-1da7f2ffc8c0"
      },
      "source": [
        "print(y)"
      ],
      "execution_count": 25,
      "outputs": [
        {
          "output_type": "stream",
          "text": [
            "[681 603 530 689 522 295 670 636 218 360 470 414 631 307 319 558 383 699\n",
            " 377 633 333 459 210 647 491 642 470 650 326 289 374 641 202 398 289 516\n",
            " 665 497 421 206 537 615 517 576 499 669 424 204 227 406 399 509 622 402\n",
            " 527 545 446 381 637 296 237 680 594 552 583 264 327 260 306 645 460 326\n",
            " 263 226 537 584 488 652 410 472 645 579 312 581 414 528 290 474 600 382\n",
            " 328 353 376 518 528 431 445 530 386 459 697 413 550 365 663 536 537 672\n",
            " 319 362 292 587 424 440 333 354 273 551 332 481 516 502 339 656 392 394\n",
            " 470 319 243 205 284 370 227 575 366 235 316 587 277 205 201 466 667 309\n",
            " 414 410 396 244 606 395 277 692 215 277 496 676 226 656 463 315 509 645\n",
            " 209 347 454 368 343 510 220 434 372 383 650 681 248 433 445 205 511 339\n",
            " 335 241 491 626 200 506 512 224 633 236 660 690 651 330 466 212 673 598\n",
            " 584 218]\n"
          ],
          "name": "stdout"
        }
      ]
    },
    {
      "cell_type": "code",
      "metadata": {
        "id": "lRx2-VOSCITt"
      },
      "source": [
        "LpUrban2=cos(f,loc,tower,user,y)"
      ],
      "execution_count": 26,
      "outputs": []
    },
    {
      "cell_type": "code",
      "metadata": {
        "colab": {
          "base_uri": "https://localhost:8080/"
        },
        "id": "ZcOu0_QBCMYh",
        "outputId": "fa332bd4-cd9e-4356-ac99-fcba7ded62a3"
      },
      "source": [
        "print(LpUrban2)"
      ],
      "execution_count": 27,
      "outputs": [
        {
          "output_type": "stream",
          "text": [
            "[177.10612214 175.39260023 173.57490946 177.27063481 173.36066598\n",
            " 165.32175964 176.87673349 176.14313422 161.06095037 168.12673346\n",
            " 171.88252815 170.09545338 176.03195576 165.88341161 166.42352522\n",
            " 174.30009652 168.99910764 177.47361005 168.77668874 176.0765325\n",
            " 167.02854867 171.54893104 160.53430071 176.38468123 172.49825778\n",
            " 176.27540033 171.88252815 176.44984513 166.72928502 165.03230622\n",
            " 168.6641483  176.25344205 159.9871936  169.54025886 165.03230622\n",
            " 173.19781749 176.7712181  172.66934778 170.33163535 160.26340318\n",
            " 173.75973622 175.67017055 173.22508998 174.74731623 172.7259191\n",
            " 176.85569354 170.43165639 160.12597538 161.63080847 169.82059124\n",
            " 169.57560702 173.00541711 175.82959612 169.68112241 173.49494953\n",
            " 173.96803928 171.14421572 168.92535754 176.165265   165.36942885\n",
            " 162.23806792 177.0854223  175.18077312 174.14781139 174.9174713\n",
            " 163.75781746 166.7724282  163.54275622 165.83745321 176.34107056\n",
            " 171.57958663 166.72928502 163.70435919 161.56861748 173.75973622\n",
            " 174.94161224 172.41192714 176.49312086 169.95869272 171.94234241\n",
            " 176.34107056 174.82049165 166.11098098 174.86906493 170.09545338\n",
            " 173.5216533  165.08096339 172.00190375 175.32234454 168.96228086\n",
            " 166.81543965 167.85013646 168.73927508 173.25230977 173.5216533\n",
            " 170.66231339 171.11259676 173.57490946 169.10901382 171.54893104\n",
            " 177.43324831 170.06138749 174.09668161 168.32102947 176.72878965\n",
            " 173.73348041 173.75973622 176.91871932 166.42352522 168.20477376\n",
            " 165.1777764  175.01378782 170.43165639 170.95342854 167.02854867\n",
            " 167.8899844  164.23002607 174.1222697  166.98618401 172.20840727\n",
            " 173.19781749 172.81035234 167.28009531 176.57927549 169.32628658\n",
            " 169.39797242 171.88252815 166.42352522 162.5902422  160.19485688\n",
            " 164.78646686 168.51268192 161.63080847 174.7228397  168.35956913\n",
            " 162.11869231 166.29042593 175.01378782 164.43492041 160.19485688\n",
            " 159.91728657 171.76213222 176.81351915 165.97488101 170.09545338\n",
            " 169.95869272 169.46929529 162.6480913  175.46250726 169.433679\n",
            " 164.43492041 177.33183507 160.86575689 164.43492041 172.6409767\n",
            " 177.00231742 161.56861748 176.57927549 171.67115513 166.24577854\n",
            " 173.00541711 176.34107056 160.46706318 167.60865219 171.39464431\n",
            " 168.43633356 167.44533166 173.03306429 161.18959271 170.76002179\n",
            " 168.58861869 168.99910764 176.44984513 177.10612214 162.87714086\n",
            " 170.72752757 171.11259676 160.19485688 173.06065732 167.28009531\n",
            " 167.11289765 162.47382635 172.49825778 175.91989282 159.84703087\n",
            " 172.92214846 173.08819641 161.44340565 176.0765325  162.17850657\n",
            " 176.66490637 177.29106446 176.47149961 166.90107053 171.76213222\n",
            " 160.66782055 176.9396654  175.27531198 174.94161224 161.06095037]\n"
          ],
          "name": "stdout"
        }
      ]
    },
    {
      "cell_type": "code",
      "metadata": {
        "id": "UDQkqn-dCO1N"
      },
      "source": [
        "y_sort=y[np.argsort(y)]\r\n",
        "Urban_sort2=LpUrban2[np.argsort(y)]"
      ],
      "execution_count": 28,
      "outputs": []
    },
    {
      "cell_type": "code",
      "metadata": {
        "id": "GktxO7YRCR9-"
      },
      "source": [
        "f=700 #MHz\r\n",
        "loc='urban'\r\n",
        "tower=80 #m\r\n",
        "user=1.5 #m\r\n",
        "dmin=200 #m\r\n",
        "dmax=700 #m\r\n",
        "N=200 #titik\r\n",
        "z=np.random.randint(dmin,dmax,N)"
      ],
      "execution_count": 29,
      "outputs": []
    },
    {
      "cell_type": "code",
      "metadata": {
        "colab": {
          "base_uri": "https://localhost:8080/"
        },
        "id": "mj5N4iCfCTvU",
        "outputId": "e2b927e1-42f9-42df-9125-d94da911ff0a"
      },
      "source": [
        "print(z)"
      ],
      "execution_count": 30,
      "outputs": [
        {
          "output_type": "stream",
          "text": [
            "[281 280 221 551 229 569 236 658 248 385 533 254 345 484 219 274 211 649\n",
            " 269 278 253 323 202 437 520 286 286 405 527 204 234 660 349 569 412 546\n",
            " 269 445 506 576 444 300 501 358 408 251 607 436 287 500 274 648 696 210\n",
            " 670 694 684 422 692 345 503 537 495 482 616 546 386 550 625 670 590 573\n",
            " 646 391 272 367 222 477 562 289 360 696 374 500 326 671 350 242 595 328\n",
            " 261 675 356 680 453 574 204 661 257 565 583 682 674 564 511 371 531 598\n",
            " 571 419 237 293 395 229 320 224 658 296 314 521 575 507 242 417 560 258\n",
            " 472 217 203 523 408 672 512 636 412 687 646 506 267 235 235 513 419 569\n",
            " 399 383 483 597 666 458 540 565 579 386 567 336 657 339 217 348 552 202\n",
            " 515 553 532 266 462 228 425 632 557 362 557 586 354 515 221 435 522 523\n",
            " 611 498 525 234 422 616 381 216 558 310 435 221 324 633 338 575 250 378\n",
            " 397 306]\n"
          ],
          "name": "stdout"
        }
      ]
    },
    {
      "cell_type": "code",
      "metadata": {
        "id": "GyaxOmZSCVwM"
      },
      "source": [
        "LpUrban3=cos(f,loc,tower,user,z)"
      ],
      "execution_count": 31,
      "outputs": []
    },
    {
      "cell_type": "code",
      "metadata": {
        "colab": {
          "base_uri": "https://localhost:8080/"
        },
        "id": "fSyUpP-1CXVO",
        "outputId": "6e8bd054-77d5-463a-d82d-44cf2ad4de2d"
      },
      "source": [
        "print(LpUrban3)"
      ],
      "execution_count": 32,
      "outputs": [
        {
          "output_type": "stream",
          "text": [
            "[161.79148078 161.74126241 158.40807966 171.27687338 158.90897644\n",
            " 171.72968429 159.33311025 173.77675968 160.03174455 166.22707731\n",
            " 170.80902175 160.36848339 164.6818323  169.45059406 158.28002207\n",
            " 161.43613342 157.75582252 173.58276099 161.17671103 161.64028536\n",
            " 160.31291631 163.75366062 157.14179728 168.01166078 170.46119575\n",
            " 162.03992174 162.03992174 166.94045696 170.64955321 157.28057907\n",
            " 159.21322666 173.81951005 164.84421148 171.72968429 167.1818427\n",
            " 171.14846559 161.17671103 168.26720045 170.07675215 171.90191991\n",
            " 168.23551036 162.71311238 169.9368678  165.20286208 167.0444149\n",
            " 160.20112018 172.6403364  167.97938989 162.08908841 169.90872346\n",
            " 161.43613342 173.56103973 174.56762767 157.6889044  174.03133717\n",
            " 174.52709171 174.32264345 167.51965835 174.48643876 164.6818323\n",
            " 169.99298835 170.91433991 169.76715204 169.39226587 172.84766008\n",
            " 171.14846559 166.26361751 171.2512853  173.05197653 174.03133717\n",
            " 172.24019916 171.82836237 173.51749646 166.44491007 161.33293708\n",
            " 165.55260732 158.47167452 169.24537989 171.55531661 162.1869099\n",
            " 165.28133714 174.56762767 165.81875198 169.90872346 163.8838887\n",
            " 174.05234573 164.88451548 159.68675822 172.35907107 163.97004333\n",
            " 160.75143382 174.13606804 165.12394737 174.24002598 168.51818682\n",
            " 171.85292425 157.28057907 173.84083669 160.53388143 171.63031007\n",
            " 172.07207498 174.28139529 174.11518407 171.60535659 170.21526101\n",
            " 165.70530516 170.75606591 172.42991566 171.77910974 167.41916158\n",
            " 159.3926716  162.38053821 166.58828268 158.90897644 163.62221732\n",
            " 158.59800934 173.77675968 162.52403253 163.35559288 170.48825865\n",
            " 171.87744338 170.10456309 159.68675822 167.35176319 171.50509824\n",
            " 160.58858533 169.09694609 158.15078963 157.21135909 170.54222897\n",
            " 167.0444149  174.073323   170.24280009 173.2977379  167.1818427\n",
            " 174.3842901  173.51749646 170.07675215 161.07158937 159.27329599\n",
            " 159.27329599 170.27028544 167.41916158 171.72968429 166.73021071\n",
            " 166.15371132 169.42146015 172.40634037 173.94698819 168.67281227\n",
            " 170.99281497 171.63031007 171.97509533 166.26361751 171.68008481\n",
            " 164.30948716 173.75533574 164.43469899 158.15078963 164.80379183\n",
            " 171.30241507 157.14179728 170.32509577 171.32791053 170.78256872\n",
            " 161.01873288 168.79530207 158.84732978 167.61944322 173.20886545\n",
            " 171.4294334  165.35937744 171.4294334  172.14437405 165.04458808\n",
            " 170.32509577 158.40807966 167.9470449  170.51526966 170.54222897\n",
            " 172.73285718 169.85226552 170.59599331 159.21322666 167.51965835\n",
            " 172.84766008 166.07996122 158.08572606 171.4547002  163.17499762\n",
            " 167.9470449  158.40807966 163.79720389 173.23113618 164.39308526\n",
            " 171.87744338 160.14488762 165.96860698 166.65942544 162.9920569 ]\n"
          ],
          "name": "stdout"
        }
      ]
    },
    {
      "cell_type": "code",
      "metadata": {
        "id": "uWVJuATVCZUP"
      },
      "source": [
        "z_sort=z[np.argsort(z)]\r\n",
        "Urban_sort3=LpUrban3[np.argsort(z)]"
      ],
      "execution_count": 33,
      "outputs": []
    },
    {
      "cell_type": "code",
      "metadata": {
        "colab": {
          "base_uri": "https://localhost:8080/",
          "height": 295
        },
        "id": "ftu_zkrZCarc",
        "outputId": "318496be-a8fa-4a1a-8a34-227c250b9446"
      },
      "source": [
        "plt.figure()\r\n",
        "plt.plot(x_sort,Urban_sort1, label='700 Mhz')\r\n",
        "plt.plot(y_sort,Urban_sort2, label='900 Mhz')\r\n",
        "plt.plot(z_sort,Urban_sort3, label='1800 Mhz')\r\n",
        "plt.legend()\r\n",
        "plt.title('Model Urban (Contoh Gambar)')\r\n",
        "plt.xlabel('Jarak (m)')\r\n",
        "plt.ylabel('Path Loss (dB)')\r\n",
        "plt.show()"
      ],
      "execution_count": 34,
      "outputs": [
        {
          "output_type": "display_data",
          "data": {
            "image/png": "[encoded data removed]",
            "text/plain": [
              "<Figure size 432x288 with 1 Axes>"
            ]
          },
          "metadata": {
            "tags": [],
            "needs_background": "light"
          }
        }
      ]
    }
  ]
}